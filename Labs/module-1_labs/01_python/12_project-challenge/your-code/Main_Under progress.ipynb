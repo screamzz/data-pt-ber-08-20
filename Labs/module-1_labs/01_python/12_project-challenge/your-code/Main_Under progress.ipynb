{
 "cells": [
  {
   "cell_type": "markdown",
   "metadata": {},
   "source": [
    "## Challenge B: Credit Card Validator"
   ]
  },
  {
   "cell_type": "markdown",
   "metadata": {},
   "source": [
    "### Description\n",
    "\n",
    "Your task is to write a program which reads credit card number prints the validation result ‘Valid’ or ‘Invalid’.\n",
    "\n",
    "A valid credit card has following features:\n",
    "\n",
    "It should start with 4, 5 or 6\n",
    "It should have exactly 16 digits\n",
    "It should only consist of digits (0-9)\n",
    "It may have digits in groups of 4 and separated by one hyphen \"-\"\n",
    "It should NOT use any other separator like ‘ ’,‘_’, etc.\n",
    "It should NOT have 4 or more consecutive repeated digits"
   ]
  },
  {
   "cell_type": "raw",
   "metadata": {},
   "source": [
    "Valid Credit Card Numbers: \n",
    "4343253434463211\n",
    "4263525778615786 \n",
    "5535535535559555 \n",
    "6344-2389-7542-9163 \n",
    "\n",
    "Invalid Credit Card Numbers:\n",
    "42536258796157867\n",
    "66266666626662666\n",
    "5122-2368-7954 -3214\n",
    "44244x4424442444\n",
    "0525362587961578"
   ]
  },
  {
   "cell_type": "code",
   "execution_count": 19,
   "metadata": {},
   "outputs": [],
   "source": [
    "#Your code:\n",
    "import re"
   ]
  },
  {
   "cell_type": "code",
   "execution_count": 2,
   "metadata": {},
   "outputs": [
    {
     "name": "stdin",
     "output_type": "stream",
     "text": [
      "Please enter a sequence of 16 digits:  1234#1234&1111@123456789\n"
     ]
    }
   ],
   "source": [
    "sequence = input(\"Please enter a sequence of 16 digits: \")"
   ]
  },
  {
   "cell_type": "code",
   "execution_count": 11,
   "metadata": {},
   "outputs": [
    {
     "data": {
      "text/plain": [
       "False"
      ]
     },
     "execution_count": 11,
     "metadata": {},
     "output_type": "execute_result"
    }
   ],
   "source": [
    "def CheckStart(sequence):\n",
    "    return re.search(r'\\b[456]', sequence) != None\n",
    "CheckStart(sequence)"
   ]
  },
  {
   "cell_type": "code",
   "execution_count": 12,
   "metadata": {
    "scrolled": true
   },
   "outputs": [
    {
     "data": {
      "text/plain": [
       "False"
      ]
     },
     "execution_count": 12,
     "metadata": {},
     "output_type": "execute_result"
    }
   ],
   "source": [
    "def CheckNumberofdigits(sequence):\n",
    "    return re.search('\\d{16}|\\d{4}-\\d{4}-\\d{4}-\\d{4}', sequence) != None\n",
    "CheckNumberofdigits(sequence)"
   ]
  },
  {
   "cell_type": "code",
   "execution_count": 15,
   "metadata": {},
   "outputs": [
    {
     "data": {
      "text/plain": [
       "True"
      ]
     },
     "execution_count": 15,
     "metadata": {},
     "output_type": "execute_result"
    }
   ],
   "source": [
    "def CheckFormat(sequence):  \n",
    "    return  re.search('\\d', sequence) != None\n",
    "CheckFormat(sequence)"
   ]
  },
  {
   "cell_type": "code",
   "execution_count": 16,
   "metadata": {},
   "outputs": [
    {
     "data": {
      "text/plain": [
       "False"
      ]
     },
     "execution_count": 16,
     "metadata": {},
     "output_type": "execute_result"
    }
   ],
   "source": [
    "def CheckHyphen(sequence):\n",
    "    return re.search('\\d{4}-\\\\d{4}-\\d{4}-', sequence) != None or re.search('\\d{16}', sequence) != None\n",
    "CheckHyphen(sequence)"
   ]
  },
  {
   "cell_type": "code",
   "execution_count": 17,
   "metadata": {},
   "outputs": [
    {
     "name": "stdout",
     "output_type": "stream",
     "text": [
      "True\n"
     ]
    }
   ],
   "source": [
    "def CheckSpecialCaracters(sequence):\n",
    "    pattern = \"[ _]\"\n",
    "    return re.search(pattern, sequence) == None\n",
    "print(CheckSpecialCaracters(sequence))"
   ]
  },
  {
   "cell_type": "code",
   "execution_count": 18,
   "metadata": {},
   "outputs": [
    {
     "name": "stdout",
     "output_type": "stream",
     "text": [
      "False\n"
     ]
    }
   ],
   "source": [
    "def CheckConsecutiveNumbers(sequence):\n",
    "    pattern = r\"([0-9])\\1{3,}\"\n",
    "    return re.search(pattern, sequence) == None\n",
    "print(CheckConsecutiveNumbers(sequence))"
   ]
  },
  {
   "cell_type": "code",
   "execution_count": 10,
   "metadata": {},
   "outputs": [
    {
     "name": "stdout",
     "output_type": "stream",
     "text": [
      "Invalid\n"
     ]
    }
   ],
   "source": [
    "def validseq(sequence):\n",
    "    if CheckStart(sequence) and CheckNumberofdigits(sequence) and CheckFormat(sequence) and CheckHyphen(sequence) and CheckSpecialCaracters(sequence) and CheckConsecutiveNumbers(sequence):\n",
    "        return(\"Valid\")\n",
    "    return \"Invalid\"\n",
    "print(validseq(sequence))"
   ]
  },
  {
   "cell_type": "code",
   "execution_count": null,
   "metadata": {},
   "outputs": [],
   "source": []
  },
  {
   "cell_type": "code",
   "execution_count": null,
   "metadata": {},
   "outputs": [],
   "source": []
  },
  {
   "cell_type": "code",
   "execution_count": null,
   "metadata": {},
   "outputs": [],
   "source": []
  },
  {
   "cell_type": "code",
   "execution_count": null,
   "metadata": {},
   "outputs": [],
   "source": []
  }
 ],
 "metadata": {
  "kernelspec": {
   "display_name": "Python 3",
   "language": "python",
   "name": "python3"
  },
  "language_info": {
   "codemirror_mode": {
    "name": "ipython",
    "version": 3
   },
   "file_extension": ".py",
   "mimetype": "text/x-python",
   "name": "python",
   "nbconvert_exporter": "python",
   "pygments_lexer": "ipython3",
   "version": "3.8.5"
  }
 },
 "nbformat": 4,
 "nbformat_minor": 4
}
