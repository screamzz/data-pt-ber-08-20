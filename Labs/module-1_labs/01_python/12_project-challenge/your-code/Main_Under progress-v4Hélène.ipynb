{
 "cells": [
  {
   "cell_type": "markdown",
   "metadata": {},
   "source": [
    "## Challenge B: Credit Card Validator"
   ]
  },
  {
   "cell_type": "markdown",
   "metadata": {},
   "source": [
    "### Description\n",
    "\n",
    "Your task is to write a program which reads credit card number prints the validation result ‘Valid’ or ‘Invalid’.\n",
    "\n",
    "A valid credit card has following features:\n",
    "\n",
    "\n",
    "    It should start with 4, 5 or 6\n",
    "    It should have exactly 16 digits\n",
    "    It should only consist of digits (0-9)\n",
    "    It may have digits in groups of 4 and separated by one hyphen \"-\"\n",
    "    It should NOT use any other separator like ‘ ’,‘_’, etc.\n",
    "    It should NOT have 4 or more consecutive repeated digits\n"
   ]
  },
  {
   "cell_type": "raw",
   "metadata": {},
   "source": [
    "Valid Credit Card Numbers: \n",
    "4343253434463211\n",
    "4263525778615786 \n",
    "5535535535559555 \n",
    "6344-2389-7542-9163 \n",
    "\n",
    "Invalid Credit Card Numbers:\n",
    "42536258796157867\n",
    "66266666626662666\n",
    "5122-2368-7954 -3214\n",
    "44244x4424442444\n",
    "0525362587961578\n",
    "65341-2534-3446-3213"
   ]
  },
  {
   "cell_type": "code",
   "execution_count": 10,
   "metadata": {},
   "outputs": [],
   "source": [
    "import re"
   ]
  },
  {
   "cell_type": "code",
   "execution_count": 27,
   "metadata": {},
   "outputs": [],
   "source": [
    "sequence = \"5215-3335-8796-1578\""
   ]
  },
  {
   "cell_type": "code",
   "execution_count": 28,
   "metadata": {},
   "outputs": [
    {
     "data": {
      "text/plain": [
       "True"
      ]
     },
     "execution_count": 28,
     "metadata": {},
     "output_type": "execute_result"
    }
   ],
   "source": [
    "# Check if sequence has group of 4 digits separated by - or a series of exactly 16 digits\n",
    "def checkFormat(sequence):\n",
    "    return re.search(r'\\b[456]\\d{15}\\b|\\b[456]\\d{3}-\\d{4}-\\d{4}-\\d{4}\\b', sequence) != None\n",
    "checkFormat(sequence)"
   ]
  },
  {
   "cell_type": "code",
   "execution_count": 23,
   "metadata": {},
   "outputs": [
    {
     "data": {
      "text/plain": [
       "True"
      ]
     },
     "execution_count": 23,
     "metadata": {},
     "output_type": "execute_result"
    }
   ],
   "source": [
    "# Check if sequence dont have 4+ consecutive same digits\n",
    "def checkConsecutiveNumbers(sequence):\n",
    "    pattern = r\"([0-9])\\1{3,}\"\n",
    "    return re.search(pattern, sequence) == None\n",
    "checkConsecutiveNumbers(sequence)"
   ]
  },
  {
   "cell_type": "code",
   "execution_count": 24,
   "metadata": {},
   "outputs": [
    {
     "data": {
      "text/plain": [
       "'Valid'"
      ]
     },
     "execution_count": 24,
     "metadata": {},
     "output_type": "execute_result"
    }
   ],
   "source": [
    "def validSequence(sequence):\n",
    "    if (checkStart(sequence) and check16Digits(sequence) and checkFormat(sequence) \n",
    "        and checkSpecialCharacters(sequence) and checkConsecutiveNumbers(sequence)):\n",
    "        return \"Valid\"\n",
    "    return \"Invalid\"\n",
    "validSequence(sequence)"
   ]
  },
  {
   "cell_type": "code",
   "execution_count": null,
   "metadata": {},
   "outputs": [],
   "source": []
  },
  {
   "cell_type": "code",
   "execution_count": null,
   "metadata": {},
   "outputs": [],
   "source": []
  },
  {
   "cell_type": "code",
   "execution_count": null,
   "metadata": {},
   "outputs": [],
   "source": []
  },
  {
   "cell_type": "code",
   "execution_count": null,
   "metadata": {},
   "outputs": [],
   "source": []
  }
 ],
 "metadata": {
  "kernelspec": {
   "display_name": "Python 3",
   "language": "python",
   "name": "python3"
  },
  "language_info": {
   "codemirror_mode": {
    "name": "ipython",
    "version": 3
   },
   "file_extension": ".py",
   "mimetype": "text/x-python",
   "name": "python",
   "nbconvert_exporter": "python",
   "pygments_lexer": "ipython3",
   "version": "3.8.5"
  }
 },
 "nbformat": 4,
 "nbformat_minor": 4
}
